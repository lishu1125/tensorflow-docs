{
 "cells": [
  {
   "cell_type": "markdown",
   "metadata": {
    "colab_type": "text",
    "id": "Jxv6goXm7oGF"
   },
   "source": [
    "##### Copyright 2018 The TensorFlow Authors.\n",
    "\n",
    "Licensed under the Apache License, Version 2.0 (the \"License\");"
   ]
  },
  {
   "cell_type": "code",
   "execution_count": 0,
   "metadata": {
    "colab": {},
    "colab_type": "code",
    "collapsed": true,
    "id": "llMNufAK7nfK"
   },
   "outputs": [],
   "source": [
    "#@title Licensed under the Apache License, Version 2.0 (the \"License\"); { display-mode: \"form\" }\n",
    "# you may not use this file except in compliance with the License.\n",
    "# You may obtain a copy of the License at\n",
    "#\n",
    "# https://www.apache.org/licenses/LICENSE-2.0\n",
    "#\n",
    "# Unless required by applicable law or agreed to in writing, software\n",
    "# distributed under the License is distributed on an \"AS IS\" BASIS,\n",
    "# WITHOUT WARRANTIES OR CONDITIONS OF ANY KIND, either express or implied.\n",
    "# See the License for the specific language governing permissions and\n",
    "# limitations under the License."
   ]
  },
  {
   "cell_type": "markdown",
   "metadata": {
    "colab_type": "text",
    "id": "8Byow2J6LaPl"
   },
   "source": [
    "# AutoGraph: 简易控制图模型流程"
   ]
  },
  {
   "cell_type": "markdown",
   "metadata": {
    "colab_type": "text",
    "id": "kGXS3UWBBNoc"
   },
   "source": [
    "<table class=\"tfo-notebook-buttons\" align=\"left\">\n",
    "  <td>\n",
    "    <a target=\"_blank\" href=\"https://www.tensorflow.org/guide/autograph\"><img src=\"https://www.tensorflow.org/images/tf_logo_32px.png\" />View on TensorFlow.org</a>\n",
    "  </td>\n",
    "  <td>\n",
    "    <a target=\"_blank\" href=\"https://colab.research.google.com/github/tensorflow/docs/blob/master/site/en/guide/autograph.ipynb\"><img src=\"https://www.tensorflow.org/images/colab_logo_32px.png\" />Run in Google Colab</a>\n",
    "  </td>\n",
    "  <td>\n",
    "    <a target=\"_blank\" href=\"https://github.com/tensorflow/docs/blob/master/site/en/guide/autograph.ipynb\"><img src=\"https://www.tensorflow.org/images/GitHub-Mark-32px.png\" />View source on GitHub</a>\n",
    "  </td>\n",
    "</table>"
   ]
  },
  {
   "cell_type": "markdown",
   "metadata": {
    "colab_type": "text",
    "id": "CydFK2CL7ZHA"
   },
   "source": [
    "[AutoGraph](https://github.com/tensorflow/tensorflow/blob/master/tensorflow/python/autograph/) 可帮助你使用普通 Python 编写复杂的图形代码。在幕后，AutoGraph 会自动将代码转换为等效的[TensorFlow 图形代码](https://www.tensorflow.org/guide/graphs)。 AutoGraph 已经支持大部分 Python 语言，而且覆盖范围也在不断扩大。有关支持的 Python 语言功能的列表，请参阅[Autograph 功能和限制](https://github.com/tensorflow/tensorflow/blob/master/tensorflow/python/autograph/LIMITATIONS.md)。"
   ]
  },
  {
   "cell_type": "markdown",
   "metadata": {
    "colab_type": "text",
    "id": "n4EKOpw9mObL"
   },
   "source": [
    "## 安装\n",
    "\n",
    "要使用 AutoGraph，安装最新版本 TensorFlow："
   ]
  },
  {
   "cell_type": "code",
   "execution_count": 0,
   "metadata": {
    "colab": {},
    "colab_type": "code",
    "collapsed": true,
    "id": "RSez0n7Ptcvb"
   },
   "outputs": [],
   "source": [
    "! pip install -U tf-nightly"
   ]
  },
  {
   "cell_type": "markdown",
   "metadata": {
    "colab_type": "text",
    "id": "qLp9VZfit9oR"
   },
   "source": [
    "导入 TensorFlow，AutoGraph 和任何支持模块："
   ]
  },
  {
   "cell_type": "code",
   "execution_count": 0,
   "metadata": {
    "colab": {},
    "colab_type": "code",
    "collapsed": true,
    "id": "mT7meGqrZTz9"
   },
   "outputs": [],
   "source": [
    "from __future__ import division, print_function, absolute_import\n",
    "\n",
    "import tensorflow as tf\n",
    "layers = tf.keras.layers\n",
    "from tensorflow.contrib import autograph\n",
    "\n",
    "\n",
    "import numpy as np\n",
    "import matplotlib.pyplot as plt"
   ]
  },
  {
   "cell_type": "markdown",
   "metadata": {
    "colab_type": "text",
    "id": "Hh1PajmUJMNp"
   },
   "source": [
    "我们将启用 [eager execution](https://www.tensorflow.org/guide/eager) 进行演示，但 AutoGraph 同时适用于 eager 和 [graph execution](https://www.tensorflow.org/guide/graphs) 环境："
   ]
  },
  {
   "cell_type": "code",
   "execution_count": 0,
   "metadata": {
    "colab": {},
    "colab_type": "code",
    "collapsed": true,
    "id": "ks_hiqcSJNvg"
   },
   "outputs": [],
   "source": [
    "tf.enable_eager_execution()"
   ]
  },
  {
   "cell_type": "markdown",
   "metadata": {
    "colab_type": "text",
    "id": "WR4lG3hsuWQT"
   },
   "source": [
    "注意：AutoGraph 转换代码旨在在图计算期间运行。启用 eager 执行时，使用显式图（如本例所示）或 `tf.contrib.eager.defun`。"
   ]
  },
  {
   "cell_type": "markdown",
   "metadata": {
    "colab_type": "text",
    "id": "ohbSnA79mcJV"
   },
   "source": [
    "## 自动转换 Python 控制流\n",
    "\n",
    "AutoGraph 会将大部分 Python语言转换为等效的 TensorFlow 图构建代码。 \n",
    "\n",
    "注意：在实际应用中，批处理对性能至关重要。转换为 AutoGraph 的最佳代码是在 <b>batch</b> 级别决定控制流的代码。如果在单个 <b>example</b> 级别做出决策，则必须对示例进行索引和批处理，以便在应用控制流逻辑时保持性能。 \n",
    "\n",
    "AutoGraph 转化函数如下所示："
   ]
  },
  {
   "cell_type": "code",
   "execution_count": 0,
   "metadata": {
    "colab": {},
    "colab_type": "code",
    "collapsed": true,
    "id": "aA3gOodCBkOw"
   },
   "outputs": [],
   "source": [
    "def square_if_positive(x):\n",
    "  if x > 0:\n",
    "    x = x * x\n",
    "  else:\n",
    "    x = 0.0\n",
    "  return x"
   ]
  },
  {
   "cell_type": "markdown",
   "metadata": {
    "colab_type": "text",
    "id": "LICw4XQFZrhH"
   },
   "source": [
    "对函数使用图构建方法："
   ]
  },
  {
   "cell_type": "code",
   "execution_count": 0,
   "metadata": {
    "colab": {},
    "colab_type": "code",
    "collapsed": true,
    "id": "_EMhGUjRZoKQ"
   },
   "outputs": [],
   "source": [
    "print(autograph.to_code(square_if_positive))"
   ]
  },
  {
   "cell_type": "markdown",
   "metadata": {
    "colab_type": "text",
    "id": "xpK0m4TCvkJq"
   },
   "source": [
    "为 eager execution 编写的代码可以在 `tf.Graph` 中运行，结果相同，但具有图计算的优点："
   ]
  },
  {
   "cell_type": "code",
   "execution_count": 0,
   "metadata": {
    "colab": {},
    "colab_type": "code",
    "collapsed": true,
    "id": "I1RtBvoKBxq5"
   },
   "outputs": [],
   "source": [
    "print('Eager results: %2.2f, %2.2f' % (square_if_positive(tf.constant(9.0)), \n",
    "                                       square_if_positive(tf.constant(-9.0))))"
   ]
  },
  {
   "cell_type": "markdown",
   "metadata": {
    "colab_type": "text",
    "id": "Fpk3MxVVv5gn"
   },
   "source": [
    "生成图并调用它："
   ]
  },
  {
   "cell_type": "code",
   "execution_count": 0,
   "metadata": {
    "colab": {},
    "colab_type": "code",
    "collapsed": true,
    "id": "SGjSq0WQvwGs"
   },
   "outputs": [],
   "source": [
    "tf_square_if_positive = autograph.to_graph(square_if_positive)\n",
    "\n",
    "with tf.Graph().as_default():  \n",
    "  # 结果像常规操作一样：将张量输入，返回张量。\n",
    "  # 可以使用 tf.get_default_graph().as_graph_def() 检查图模型\n",
    "  g_out1 = tf_square_if_positive(tf.constant( 9.0))\n",
    "  g_out2 = tf_square_if_positive(tf.constant(-9.0))\n",
    "  with tf.Session() as sess:\n",
    "    print('Graph results: %2.2f, %2.2f\\n' % (sess.run(g_out1), sess.run(g_out2)))"
   ]
  },
  {
   "cell_type": "markdown",
   "metadata": {
    "colab_type": "text",
    "id": "m-jWmsCmByyw"
   },
   "source": [
    "AutoGraph 支持常见的 Python 语句，如 `while`，`for`，`if`，`break` 和 `return`，支持嵌套。将此函数与以下代码块中显示的复杂图相比较："
   ]
  },
  {
   "cell_type": "code",
   "execution_count": 0,
   "metadata": {
    "colab": {},
    "colab_type": "code",
    "collapsed": true,
    "id": "toxKBOXbB1ro"
   },
   "outputs": [],
   "source": [
    "# 循环跳出\n",
    "def sum_even(items):\n",
    "  s = 0\n",
    "  for c in items:\n",
    "    if c % 2 > 0:\n",
    "      continue\n",
    "    s += c\n",
    "  return s\n",
    "\n",
    "print('Eager result: %d' % sum_even(tf.constant([10,12,15,20])))\n",
    "\n",
    "tf_sum_even = autograph.to_graph(sum_even)\n",
    "\n",
    "with tf.Graph().as_default(), tf.Session() as sess:\n",
    "    print('Graph result: %d\\n\\n' % sess.run(tf_sum_even(tf.constant([10,12,15,20]))))"
   ]
  },
  {
   "cell_type": "code",
   "execution_count": 0,
   "metadata": {
    "colab": {},
    "colab_type": "code",
    "collapsed": true,
    "id": "jlyQgxYsYSXr"
   },
   "outputs": [],
   "source": [
    "print(autograph.to_code(sum_even))"
   ]
  },
  {
   "cell_type": "markdown",
   "metadata": {
    "colab_type": "text",
    "id": "FUJJ-WTdCGeq"
   },
   "source": [
    "## 装饰器\n",
    "\n",
    "如果你不想通过访问原始 Python 函数调用，请使用 `convert` 装饰器："
   ]
  },
  {
   "cell_type": "code",
   "execution_count": 0,
   "metadata": {
    "colab": {},
    "colab_type": "code",
    "collapsed": true,
    "id": "BKhFNXDic4Mw"
   },
   "outputs": [],
   "source": [
    "@autograph.convert()\n",
    "def fizzbuzz(i, n):\n",
    "  while i < n:\n",
    "    msg = ''\n",
    "    if i % 3 == 0:\n",
    "      msg += 'Fizz'\n",
    "    if i % 5 == 0:\n",
    "      msg += 'Buzz'\n",
    "    if msg == '':\n",
    "      msg = tf.as_string(i)\n",
    "    print(msg)\n",
    "    i += 1\n",
    "  return i\n",
    "\n",
    "with tf.Graph().as_default():\n",
    "  final_i = fizzbuzz(tf.constant(10), tf.constant(16))\n",
    "  # 结果像常规操作一样：将张量输入，返回张量。\n",
    "  # 可以使用 tf.get_default_graph().as_graph_def() 检查图模型\n",
    "  with tf.Session() as sess:\n",
    "    sess.run(final_i)\n",
    "\n"
   ]
  },
  {
   "cell_type": "markdown",
   "metadata": {
    "colab_type": "text",
    "id": "-pkEH6OecW7h"
   },
   "source": [
    "## 示例\n",
    "\n",
    "让我们演示一些有用的 Python 语言特性。\n"
   ]
  },
  {
   "cell_type": "markdown",
   "metadata": {
    "colab_type": "text",
    "id": "axoRAkWi0CQG"
   },
   "source": [
    "### 中断\n",
    "\n",
    "AutoGraph 自动将 Python `assert` 语句转换为等效的 `tf.Assert` 代码："
   ]
  },
  {
   "cell_type": "code",
   "execution_count": 0,
   "metadata": {
    "colab": {},
    "colab_type": "code",
    "collapsed": true,
    "id": "IAOgh62zCPZ4"
   },
   "outputs": [],
   "source": [
    "@autograph.convert()\n",
    "def inverse(x):\n",
    "  assert x != 0.0, 'Do not pass zero!'\n",
    "  return 1.0 / x\n",
    "\n",
    "with tf.Graph().as_default(), tf.Session() as sess:\n",
    "  try:\n",
    "    print(sess.run(inverse(tf.constant(0.0))))\n",
    "  except tf.errors.InvalidArgumentError as e:\n",
    "    print('Got error message:\\n    %s' % e.message)"
   ]
  },
  {
   "cell_type": "markdown",
   "metadata": {
    "colab_type": "text",
    "id": "KRu8iIPBCQr5"
   },
   "source": [
    "### 打印\n",
    "\n",
    "在图模型中使用 Python 函数 `print`："
   ]
  },
  {
   "cell_type": "code",
   "execution_count": 0,
   "metadata": {
    "colab": {},
    "colab_type": "code",
    "collapsed": true,
    "id": "ehBac9rUR6nh"
   },
   "outputs": [],
   "source": [
    "@autograph.convert()\n",
    "def count(n):\n",
    "  i=0\n",
    "  while i < n:\n",
    "    print(i)\n",
    "    i += 1\n",
    "  return n\n",
    "    \n",
    "with tf.Graph().as_default(), tf.Session() as sess:\n",
    "    sess.run(count(tf.constant(5)))"
   ]
  },
  {
   "cell_type": "markdown",
   "metadata": {
    "colab_type": "text",
    "id": "mtpegD_YR6HK"
   },
   "source": [
    "### 列表\n",
    "\n",
    "在循环中向列表添加数据（自动创建张量列表操作）："
   ]
  },
  {
   "cell_type": "code",
   "execution_count": 0,
   "metadata": {
    "colab": {},
    "colab_type": "code",
    "collapsed": true,
    "id": "ABX070KwCczR"
   },
   "outputs": [],
   "source": [
    "@autograph.convert()\n",
    "def arange(n):\n",
    "  z = []\n",
    "  # 你需要指定列表的元素类型\n",
    "  autograph.set_element_type(z, tf.int32)\n",
    "  \n",
    "  for i in tf.range(n):\n",
    "    z.append(i)\n",
    "  # 当你完成列表操作时，叠加它\n",
    "  # （就像 np.stack）\n",
    "  return autograph.stack(z) \n",
    "\n",
    "\n",
    "with tf.Graph().as_default(), tf.Session() as sess:\n",
    "    sess.run(arange(tf.constant(10)))"
   ]
  },
  {
   "cell_type": "markdown",
   "metadata": {
    "colab_type": "text",
    "id": "qj7am2I_xvTJ"
   },
   "source": [
    "### 嵌套控制流程"
   ]
  },
  {
   "cell_type": "code",
   "execution_count": 0,
   "metadata": {
    "colab": {},
    "colab_type": "code",
    "collapsed": true,
    "id": "4yyNOf-Twr6s"
   },
   "outputs": [],
   "source": [
    "@autograph.convert()\n",
    "def nearest_odd_square(x):\n",
    "  if x > 0:\n",
    "    x = x * x\n",
    "    if x % 2 == 0:\n",
    "      x = x + 1\n",
    "  return x\n",
    "\n",
    "with tf.Graph().as_default():  \n",
    "  with tf.Session() as sess:\n",
    "    print(sess.run(nearest_odd_square(tf.constant(4))))\n",
    "    print(sess.run(nearest_odd_square(tf.constant(5))))\n",
    "    print(sess.run(nearest_odd_square(tf.constant(6))))"
   ]
  },
  {
   "cell_type": "markdown",
   "metadata": {
    "colab_type": "text",
    "id": "jXAxjeBr1qWK"
   },
   "source": [
    "### While 循环"
   ]
  },
  {
   "cell_type": "code",
   "execution_count": 0,
   "metadata": {
    "colab": {},
    "colab_type": "code",
    "collapsed": true,
    "id": "ucmZyQVL03bF"
   },
   "outputs": [],
   "source": [
    "@autograph.convert()\n",
    "def square_until_stop(x, y):\n",
    "  while x < y:\n",
    "    x = x * x\n",
    "  return x\n",
    "    \n",
    "with tf.Graph().as_default():  \n",
    "  with tf.Session() as sess:\n",
    "    print(sess.run(square_until_stop(tf.constant(4), tf.constant(100))))"
   ]
  },
  {
   "cell_type": "markdown",
   "metadata": {
    "colab_type": "text",
    "id": "3N1mz7sNY87N"
   },
   "source": [
    "### For 循环"
   ]
  },
  {
   "cell_type": "code",
   "execution_count": 0,
   "metadata": {
    "colab": {},
    "colab_type": "code",
    "collapsed": true,
    "id": "CFk2fszrY8af"
   },
   "outputs": [],
   "source": [
    "@autograph.convert()\n",
    "def squares(nums):\n",
    "\n",
    "  result = []\n",
    "  autograph.set_element_type(result, tf.int64)\n",
    "\n",
    "  for num in nums: \n",
    "    result.append(num * num)\n",
    "    \n",
    "  return autograph.stack(result)\n",
    "    \n",
    "with tf.Graph().as_default():  \n",
    "  with tf.Session() as sess:\n",
    "    print(sess.run(squares(tf.constant(np.arange(10)))))"
   ]
  },
  {
   "cell_type": "markdown",
   "metadata": {
    "colab_type": "text",
    "id": "FXB0Zbwl13PY"
   },
   "source": [
    "### 中止"
   ]
  },
  {
   "cell_type": "code",
   "execution_count": 0,
   "metadata": {
    "colab": {},
    "colab_type": "code",
    "collapsed": true,
    "id": "1sjaFcL717Ig"
   },
   "outputs": [],
   "source": [
    "@autograph.convert()\n",
    "def argwhere_cumsum(x, threshold):\n",
    "  current_sum = 0.0\n",
    "  idx = 0\n",
    "  for i in tf.range(len(x)):\n",
    "    idx = i\n",
    "    if current_sum >= threshold:\n",
    "      break\n",
    "    current_sum += x[i]\n",
    "  return idx\n",
    "\n",
    "N = 10\n",
    "with tf.Graph().as_default():  \n",
    "  with tf.Session() as sess:\n",
    "    idx = argwhere_cumsum(tf.ones(N), tf.constant(float(N/2)))\n",
    "    print(sess.run(idx))"
   ]
  },
  {
   "cell_type": "markdown",
   "metadata": {
    "colab_type": "text",
    "id": "XY4UspHmZNdL"
   },
   "source": [
    "## `tf.Keras` 操作\n",
    "\n",
    "现在你已经掌握基础知识了，让我们用 autograph 来构建一些模型组件。\n",
    "\n",
    "将 `autograph` 和 `tf.keras` 融合到一起非常简单。\n",
    "\n",
    "\n",
    "### 无状态函数\n",
    "\n",
    "对于无状态函数，如下面所示的 `collatz`，将它们包含在 keras 模型中的最简单方法是使用 `tf.keras.layers.Lambda` 将它们包装为图层。"
   ]
  },
  {
   "cell_type": "code",
   "execution_count": 0,
   "metadata": {
    "colab": {},
    "colab_type": "code",
    "collapsed": true,
    "id": "ChZh3q-zcF6C"
   },
   "outputs": [],
   "source": [
    "import numpy as np\n",
    "\n",
    "@autograph.convert()\n",
    "def collatz(x):\n",
    "  x = tf.reshape(x,())\n",
    "  assert x > 0\n",
    "  n = tf.convert_to_tensor((0,)) \n",
    "  while not tf.equal(x, 1):\n",
    "    n += 1\n",
    "    if tf.equal(x%2, 0):\n",
    "      x = x // 2\n",
    "    else:\n",
    "      x = 3 * x + 1\n",
    "      \n",
    "  return n\n",
    "\n",
    "with tf.Graph().as_default():\n",
    "  model = tf.keras.Sequential([\n",
    "    tf.keras.layers.Lambda(collatz, input_shape=(1,), output_shape=())\n",
    "  ])\n",
    "  \n",
    "result = model.predict(np.array([6171]))\n",
    "result"
   ]
  },
  {
   "cell_type": "markdown",
   "metadata": {
    "colab_type": "text",
    "id": "k9LEoa3ud9hA"
   },
   "source": [
    "### 自定义图层与模型\n",
    "\n",
    "<!--TODO(markdaoust) link to full examples  or these referenced models.-->\n",
    "\n",
    "将 AutoGraph 与 Keras 图层和模型一起使用的最简单方法是使用`@autograph.convert()` 中 `call` 方法。有关如何构建这些类的详细信息，请参阅 [TensorFlow Keras 指南](https://tensorflow.org/guide/keras#build_advanced_models)。\n",
    "\n",
    "以下是实现[随机深度网络](https://arxiv.org/abs/1603.09382)的简单示例："
   ]
  },
  {
   "cell_type": "code",
   "execution_count": 0,
   "metadata": {
    "colab": {},
    "colab_type": "code",
    "collapsed": true,
    "id": "DJi_RJkeeOju"
   },
   "outputs": [],
   "source": [
    "# `K` 用于检查我们是否处于训练或测试模式。\n",
    "K = tf.keras.backend\n",
    "\n",
    "class StochasticNetworkDepth(tf.keras.Sequential):\n",
    "  def __init__(self, pfirst=1.0, plast=0.5, *args,**kwargs):\n",
    "    self.pfirst = pfirst\n",
    "    self.plast = plast\n",
    "    super().__init__(*args,**kwargs)\n",
    "        \n",
    "  def build(self,input_shape):\n",
    "    super().build(input_shape.as_list())\n",
    "    self.depth = len(self.layers)\n",
    "    self.plims = np.linspace(self.pfirst, self.plast, self.depth + 1)[:-1]\n",
    "    \n",
    "  @autograph.convert()\n",
    "  def call(self, inputs):\n",
    "    training = tf.cast(K.learning_phase(), dtype=bool)  \n",
    "    if not training: \n",
    "      count = self.depth\n",
    "      return super(StochasticNetworkDepth, self).call(inputs), count\n",
    "    \n",
    "    p = tf.random_uniform((self.depth,))\n",
    "    \n",
    "    keeps = (p <= self.plims)\n",
    "    x = inputs\n",
    "    \n",
    "    count = tf.reduce_sum(tf.cast(keeps, tf.int32))\n",
    "    for i in range(self.depth):\n",
    "      if keeps[i]:\n",
    "        x = self.layers[i](x)\n",
    "      \n",
    "    # 返回最后一层输出以及执行网络的层数。\n",
    "    return x, count"
   ]
  },
  {
   "cell_type": "markdown",
   "metadata": {
    "colab_type": "text",
    "id": "NIEzuNL6vMVl"
   },
   "source": [
    "在 mnist 数据集上进行上述实验："
   ]
  },
  {
   "cell_type": "code",
   "execution_count": 0,
   "metadata": {
    "colab": {},
    "colab_type": "code",
    "collapsed": true,
    "id": "FiqyFySkWbeN"
   },
   "outputs": [],
   "source": [
    "train_batch = np.random.randn(64, 28, 28, 1).astype(np.float32)"
   ]
  },
  {
   "cell_type": "markdown",
   "metadata": {
    "colab_type": "text",
    "id": "Vz1JTpLOvT4u"
   },
   "source": [
    "在随机深度模型中构建一个简单的 `conv` 层堆栈："
   ]
  },
  {
   "cell_type": "code",
   "execution_count": 0,
   "metadata": {
    "colab": {},
    "colab_type": "code",
    "collapsed": true,
    "id": "XwwtlQAjvUph"
   },
   "outputs": [],
   "source": [
    "with tf.Graph().as_default() as g:\n",
    "  model = StochasticNetworkDepth(\n",
    "        pfirst=1.0, plast=0.5)\n",
    "\n",
    "  for n in range(20):\n",
    "    model.add(\n",
    "          layers.Conv2D(filters=16, activation=tf.nn.relu,\n",
    "                        kernel_size=(3, 3), padding='same'))\n",
    "\n",
    "  model.build(tf.TensorShape((None, None, None, 1)))\n",
    "  \n",
    "  init = tf.global_variables_initializer()"
   ]
  },
  {
   "cell_type": "markdown",
   "metadata": {
    "colab_type": "text",
    "id": "uM3g_v7mvrkg"
   },
   "source": [
    "Now test it to ensure it behaves as expected in train and test modes:"
   ]
  },
  {
   "cell_type": "code",
   "execution_count": 0,
   "metadata": {
    "colab": {},
    "colab_type": "code",
    "collapsed": true,
    "id": "7tdmuh5Zvm3D"
   },
   "outputs": [],
   "source": [
    "# 在这里使用显式会话，以便我们切换训练/测试，以及\n",
    "# 检查 `call` 返回的图层数\n",
    "with tf.Session(graph=g) as sess:\n",
    "  init.run()\n",
    " \n",
    "  for phase, name in enumerate(['test','train']):\n",
    "    K.set_learning_phase(phase)\n",
    "    result, count = model(tf.convert_to_tensor(train_batch, dtype=tf.float32))\n",
    "\n",
    "    result1, count1 = sess.run((result, count))\n",
    "    result2, count2 = sess.run((result, count))\n",
    "\n",
    "    delta = (result1 - result2)\n",
    "    print(name, \"sum abs delta: \", abs(delta).mean())\n",
    "    print(\"    layers 1st call: \", count1)\n",
    "    print(\"    layers 2nd call: \", count2)\n",
    "    print()"
   ]
  },
  {
   "cell_type": "markdown",
   "metadata": {
    "colab_type": "text",
    "id": "4LfnJjm0Bm0B"
   },
   "source": [
    "## 高级示例: An in-graph training loop\n",
    "\n",
    "上一节显示 AutoGraph 可以在 Keras 层和模型中使用。Keras 模型也可用于 AutoGraph 代码。\n",
    "\n",
    "由于在 AutoGraph 中编写控制流很容易，因此在 TensorFlow 图中循环训练也应该很容易。 \n",
    "\n",
    "此示例显示如何在整个训练过程中训练一个简单的 Keras 模型—批次加载，计算梯度，更新参数，计算验证集准确度，并重复直到收敛—在图中执行。"
   ]
  },
  {
   "cell_type": "markdown",
   "metadata": {
    "colab_type": "text",
    "id": "Em5dzSUOtLRP"
   },
   "source": [
    "### 下载数据"
   ]
  },
  {
   "cell_type": "code",
   "execution_count": 0,
   "metadata": {
    "colab": {},
    "colab_type": "code",
    "collapsed": true,
    "id": "xqoxumv0ssQW"
   },
   "outputs": [],
   "source": [
    "(train_images, train_labels), (test_images, test_labels) = tf.keras.datasets.mnist.load_data()"
   ]
  },
  {
   "cell_type": "markdown",
   "metadata": {
    "colab_type": "text",
    "id": "znmy4l8ntMvW"
   },
   "source": [
    "### 定义模型"
   ]
  },
  {
   "cell_type": "code",
   "execution_count": 0,
   "metadata": {
    "colab": {},
    "colab_type": "code",
    "collapsed": true,
    "id": "Pe-erWQdBoC5"
   },
   "outputs": [],
   "source": [
    "def mlp_model(input_shape):\n",
    "  model = tf.keras.Sequential((\n",
    "      tf.keras.layers.Dense(100, activation='relu', input_shape=input_shape),\n",
    "      tf.keras.layers.Dense(100, activation='relu'),\n",
    "      tf.keras.layers.Dense(10, activation='softmax')))\n",
    "  model.build()\n",
    "  return model\n",
    "\n",
    "\n",
    "def predict(m, x, y):\n",
    "  y_p = m(tf.reshape(x, (-1, 28 * 28)))\n",
    "  losses = tf.keras.losses.categorical_crossentropy(y, y_p)\n",
    "  l = tf.reduce_mean(losses)\n",
    "  accuracies = tf.keras.metrics.categorical_accuracy(y, y_p)\n",
    "  accuracy = tf.reduce_mean(accuracies)\n",
    "  return l, accuracy\n",
    "\n",
    "\n",
    "def fit(m, x, y, opt):\n",
    "  l, accuracy = predict(m, x, y)\n",
    "  # Autograph 自动添加 `tf.control_dependencies`。\n",
    "  # （除了它们，其它都不依赖于 `opt.minimize`，所以它不会运行。）\n",
    "  # 这使得它更像 eager-code。\n",
    "  opt.minimize(l)\n",
    "  return l, accuracy\n",
    "\n",
    "\n",
    "def setup_mnist_data(is_training, batch_size):\n",
    "  if is_training:\n",
    "    ds = tf.data.Dataset.from_tensor_slices((train_images, train_labels))\n",
    "    ds = ds.shuffle(batch_size * 10)\n",
    "  else:\n",
    "    ds = tf.data.Dataset.from_tensor_slices((test_images, test_labels))\n",
    "\n",
    "  ds = ds.repeat()\n",
    "  ds = ds.batch(batch_size)\n",
    "  return ds\n",
    "\n",
    "\n",
    "def get_next_batch(ds):\n",
    "  itr = ds.make_one_shot_iterator()\n",
    "  image, label = itr.get_next()\n",
    "  x = tf.to_float(image) / 255.0\n",
    "  y = tf.one_hot(tf.squeeze(label), 10)\n",
    "  return x, y "
   ]
  },
  {
   "cell_type": "markdown",
   "metadata": {
    "colab_type": "text",
    "id": "oeYV6mKnJGMr"
   },
   "source": [
    "### 定义循环训练"
   ]
  },
  {
   "cell_type": "code",
   "execution_count": 0,
   "metadata": {
    "colab": {},
    "colab_type": "code",
    "collapsed": true,
    "id": "3xtg_MMhJETd"
   },
   "outputs": [],
   "source": [
    "# 使用 `recursive = True` 实现递归调用函数。\n",
    "@autograph.convert(recursive=True)\n",
    "def train(train_ds, test_ds, hp):\n",
    "  m = mlp_model((28 * 28,))\n",
    "  opt = tf.train.AdamOptimizer(hp.learning_rate)\n",
    "  \n",
    "  # We'd like to save our losses to a list. In order for AutoGraph\n",
    "  # to convert these lists into their graph equivalent,\n",
    "  # we need to specify the element type of the lists.\n",
    "  train_losses = []\n",
    "  autograph.set_element_type(train_losses, tf.float32)\n",
    "  test_losses = []\n",
    "  autograph.set_element_type(test_losses, tf.float32)\n",
    "  train_accuracies = []\n",
    "  autograph.set_element_type(train_accuracies, tf.float32)\n",
    "  test_accuracies = []\n",
    "  autograph.set_element_type(test_accuracies, tf.float32)\n",
    "  \n",
    "  # 在图中执行循环训练。\n",
    "  i = tf.constant(0)\n",
    "  while i < hp.max_steps:\n",
    "    train_x, train_y = get_next_batch(train_ds)\n",
    "    test_x, test_y = get_next_batch(test_ds)\n",
    "\n",
    "    step_train_loss, step_train_accuracy = fit(m, train_x, train_y, opt)\n",
    "    step_test_loss, step_test_accuracy = predict(m, test_x, test_y)\n",
    "    if i % (hp.max_steps // 10) == 0:\n",
    "      print('Step', i, 'train loss:', step_train_loss, 'test loss:',\n",
    "            step_test_loss, 'train accuracy:', step_train_accuracy,\n",
    "            'test accuracy:', step_test_accuracy)\n",
    "    train_losses.append(step_train_loss)\n",
    "    test_losses.append(step_test_loss)\n",
    "    train_accuracies.append(step_train_accuracy)\n",
    "    test_accuracies.append(step_test_accuracy)\n",
    "    i += 1\n",
    "  \n",
    "  # 我们已经在 AutoGraph 的帮助下将我们的损失值和精度记录到图表中的列表中。\n",
    "  # 为了将值作为张量返回，我们需要在返回它们之前将它们堆叠起来。\n",
    "  return (autograph.stack(train_losses), autograph.stack(test_losses),  \n",
    "          autograph.stack(train_accuracies), autograph.stack(test_accuracies))"
   ]
  },
  {
   "cell_type": "markdown",
   "metadata": {
    "colab_type": "text",
    "id": "IsHLDZniauLV"
   },
   "source": [
    "现在编译图模型并且执行循环训练："
   ]
  },
  {
   "cell_type": "code",
   "execution_count": 0,
   "metadata": {
    "colab": {},
    "colab_type": "code",
    "collapsed": true,
    "id": "HYh6MSZyJOag"
   },
   "outputs": [],
   "source": [
    "with tf.Graph().as_default() as g:\n",
    "  hp = tf.contrib.training.HParams(\n",
    "      learning_rate=0.005,\n",
    "      max_steps=500,\n",
    "  )\n",
    "  train_ds = setup_mnist_data(True, 50)\n",
    "  test_ds = setup_mnist_data(False, 1000)\n",
    "  (train_losses, test_losses, train_accuracies,\n",
    "   test_accuracies) = train(train_ds, test_ds, hp)\n",
    "\n",
    "  init = tf.global_variables_initializer()\n",
    "  \n",
    "with tf.Session(graph=g) as sess:\n",
    "  sess.run(init)\n",
    "  (train_losses, test_losses, train_accuracies,\n",
    "   test_accuracies) = sess.run([train_losses, test_losses, train_accuracies,\n",
    "                                test_accuracies])\n",
    "  \n",
    "plt.title('MNIST train/test losses')\n",
    "plt.plot(train_losses, label='train loss')\n",
    "plt.plot(test_losses, label='test loss')\n",
    "plt.legend()\n",
    "plt.xlabel('Training step')\n",
    "plt.ylabel('Loss')\n",
    "plt.show()\n",
    "plt.title('MNIST train/test accuracies')\n",
    "plt.plot(train_accuracies, label='train accuracy')\n",
    "plt.plot(test_accuracies, label='test accuracy')\n",
    "plt.legend(loc='lower right')\n",
    "plt.xlabel('Training step')\n",
    "plt.ylabel('Accuracy')\n",
    "plt.show()"
   ]
  }
 ],
 "metadata": {
  "colab": {
   "collapsed_sections": [
    "Jxv6goXm7oGF"
   ],
   "name": "autograph.ipynb",
   "private_outputs": true,
   "provenance": [],
   "toc_visible": true,
   "version": "0.3.2"
  },
  "kernelspec": {
   "display_name": "Python 3",
   "name": "python3"
  }
 },
 "nbformat": 4,
 "nbformat_minor": 1
}
