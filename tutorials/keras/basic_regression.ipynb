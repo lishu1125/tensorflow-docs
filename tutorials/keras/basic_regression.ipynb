{
  "nbformat": 4,
  "nbformat_minor": 0,
  "metadata": {
    "colab": {
      "name": "basic-regression.ipynb",
      "version": "0.3.2",
      "provenance": [],
      "private_outputs": true,
      "collapsed_sections": [
        "FhGuhbZ6M5tl"
      ],
      "toc_visible": true
    },
    "kernelspec": {
      "name": "python3",
      "display_name": "Python 3"
    }
  },
  "cells": [
    {
      "metadata": {
        "id": "FhGuhbZ6M5tl",
        "colab_type": "text"
      },
      "cell_type": "markdown",
      "source": [
        "##### Copyright 2018 The TensorFlow Authors."
      ]
    },
    {
      "metadata": {
        "id": "AwOEIRJC6Une",
        "colab_type": "code",
        "colab": {}
      },
      "cell_type": "code",
      "source": [
        "#@title Licensed under the Apache License, Version 2.0 (the \"License\");\n",
        "# you may not use this file except in compliance with the License.\n",
        "# You may obtain a copy of the License at\n",
        "#\n",
        "# https://www.apache.org/licenses/LICENSE-2.0\n",
        "#\n",
        "# Unless required by applicable law or agreed to in writing, software\n",
        "# distributed under the License is distributed on an \"AS IS\" BASIS,\n",
        "# WITHOUT WARRANTIES OR CONDITIONS OF ANY KIND, either express or implied.\n",
        "# See the License for the specific language governing permissions and\n",
        "# limitations under the License."
      ],
      "execution_count": 0,
      "outputs": []
    },
    {
      "metadata": {
        "id": "KyPEtTqk6VdG",
        "colab_type": "code",
        "colab": {}
      },
      "cell_type": "code",
      "source": [
        "#@title MIT License\n",
        "#\n",
        "# Copyright (c) 2017 François Chollet\n",
        "#\n",
        "# Permission is hereby granted, free of charge, to any person obtaining a\n",
        "# copy of this software and associated documentation files (the \"Software\"),\n",
        "# to deal in the Software without restriction, including without limitation\n",
        "# the rights to use, copy, modify, merge, publish, distribute, sublicense,\n",
        "# and/or sell copies of the Software, and to permit persons to whom the\n",
        "# Software is furnished to do so, subject to the following conditions:\n",
        "#\n",
        "# The above copyright notice and this permission notice shall be included in\n",
        "# all copies or substantial portions of the Software.\n",
        "#\n",
        "# THE SOFTWARE IS PROVIDED \"AS IS\", WITHOUT WARRANTY OF ANY KIND, EXPRESS OR\n",
        "# IMPLIED, INCLUDING BUT NOT LIMITED TO THE WARRANTIES OF MERCHANTABILITY,\n",
        "# FITNESS FOR A PARTICULAR PURPOSE AND NONINFRINGEMENT. IN NO EVENT SHALL\n",
        "# THE AUTHORS OR COPYRIGHT HOLDERS BE LIABLE FOR ANY CLAIM, DAMAGES OR OTHER\n",
        "# LIABILITY, WHETHER IN AN ACTION OF CONTRACT, TORT OR OTHERWISE, ARISING\n",
        "# FROM, OUT OF OR IN CONNECTION WITH THE SOFTWARE OR THE USE OR OTHER\n",
        "# DEALINGS IN THE SOFTWARE."
      ],
      "execution_count": 0,
      "outputs": []
    },
    {
      "metadata": {
        "id": "EIdT9iu_Z4Rb",
        "colab_type": "text"
      },
      "cell_type": "markdown",
      "source": [
        "# 回归模型：房价预测"
      ]
    },
    {
      "metadata": {
        "id": "bBIlTPscrIT9",
        "colab_type": "text"
      },
      "cell_type": "markdown",
      "source": [
        "<table class=\"tfo-notebook-buttons\" align=\"left\">\n",
        "  <td>\n",
        "    <a target=\"_blank\" href=\"https://www.tensorflow.org/tutorials/keras/basic_regression\"><img src=\"https://www.tensorflow.org/images/tf_logo_32px.png\" />View on TensorFlow.org</a>\n",
        "  </td>\n",
        "  <td>\n",
        "    <a target=\"_blank\" href=\"https://colab.research.google.com/github/tensorflow/docs/blob/master/site/en/tutorials/keras/basic_regression.ipynb\"><img src=\"https://www.tensorflow.org/images/colab_logo_32px.png\" />Run in Google Colab</a>\n",
        "  </td>\n",
        "  <td>\n",
        "    <a target=\"_blank\" href=\"https://github.com/tensorflow/docs/blob/master/site/en/tutorials/keras/basic_regression.ipynb\"><img src=\"https://www.tensorflow.org/images/GitHub-Mark-32px.png\" />View source on GitHub</a>\n",
        "  </td>\n",
        "</table>"
      ]
    },
    {
      "metadata": {
        "id": "AHp3M9ZmrIxj",
        "colab_type": "text"
      },
      "cell_type": "markdown",
      "source": [
        "在一个**回归**问题中，我们希望预测一个连续的值，比如说价格或概率。而**分类**问题中，我们预测的是一个离散的标签（例如某个图片包含的是苹果还是橘子）。\n",
        "\n",
        "本 notebook 构建了一个模型来预测波士顿郊区在上世纪七十年代中期的房价中位数。为此，我们会给模型送入此郊区的一些特征数据，其中包括犯罪率、当地房产税税率等。\n",
        "\n",
        "本例使用了 `tf.keras` API，请参见[此指南](https://www.tensorflow.org/guide/keras)了解更多细节。"
      ]
    },
    {
      "metadata": {
        "id": "1rRo8oNqZ-Rj",
        "colab_type": "code",
        "colab": {}
      },
      "cell_type": "code",
      "source": [
        "from __future__ import absolute_import, division, print_function\n",
        "\n",
        "import tensorflow as tf\n",
        "from tensorflow import keras\n",
        "\n",
        "import numpy as np\n",
        "\n",
        "print(tf.__version__)"
      ],
      "execution_count": 0,
      "outputs": []
    },
    {
      "metadata": {
        "id": "F_72b0LCNbjx",
        "colab_type": "text"
      },
      "cell_type": "markdown",
      "source": [
        "## 波士顿房价数据集\n",
        "\n",
        "可以在 TensorFlow 中直接访问此[数据集](https://www.cs.toronto.edu/~delve/data/boston/bostonDetail.html)。通过以下方式下载及打乱训练集："
      ]
    },
    {
      "metadata": {
        "id": "p9kxxgzvzlyz",
        "colab_type": "code",
        "colab": {}
      },
      "cell_type": "code",
      "source": [
        "boston_housing = keras.datasets.boston_housing\n",
        "\n",
        "(train_data, train_labels), (test_data, test_labels) = boston_housing.load_data()\n",
        "\n",
        "# Shuffle the training set\n",
        "order = np.argsort(np.random.random(train_labels.shape))\n",
        "train_data = train_data[order]\n",
        "train_labels = train_labels[order]"
      ],
      "execution_count": 0,
      "outputs": []
    },
    {
      "metadata": {
        "id": "PwEKwRJgsgJ6",
        "colab_type": "text"
      },
      "cell_type": "markdown",
      "source": [
        "### 样例与特征\n",
        "\n",
        "这个数据集比我们其它的数据集要小的多：它共有 506 个样例，在分割后有 404 个样例放入训练集中，有 102 个样例作为测试集："
      ]
    },
    {
      "metadata": {
        "id": "Ujqcgkipr65P",
        "colab_type": "code",
        "colab": {}
      },
      "cell_type": "code",
      "source": [
        "print(\"Training set: {}\".format(train_data.shape))  # 404 examples, 13 features\n",
        "print(\"Testing set:  {}\".format(test_data.shape))   # 102 examples, 13 features"
      ],
      "execution_count": 0,
      "outputs": []
    },
    {
      "metadata": {
        "id": "0LRPXE3Oz3Nq",
        "colab_type": "text"
      },
      "cell_type": "markdown",
      "source": [
        "这个数据集包含了 13 个不同的特征：\n",
        "\n",
        "1.   人均犯罪率；\n",
        "2.   占地面积超过 25,000 平方英尺以上住宅用地所占比例；\n",
        "3.   城镇平均非零售商业占地面积所占比例；\n",
        "4.   Charles 河虚拟变量 （如果地段靠近 Charles 河，则值为 1，否则为 0）；\n",
        "5.   一氧化氮浓度（单位为千万分之一）；\n",
        "6.   每栋住所的平均房间数；\n",
        "7.   1940 年前建造的自住房占比；\n",
        "8.   到 5 个波士顿工作中心的加权距离；\n",
        "9.   辐射式高速公路的可达性指数；\n",
        "10.  每万美元全额房产税税率；\n",
        "11.  城镇学生-教师比例；\n",
        "12.  1000 * (Bk - 0.63) ** 2 函数中， Bk 为城镇黑人所占比例；\n",
        "13.  底层人口所占百分比。\n",
        "\n",
        "输入数据的每个特征维度都分别用不同的量纲进行存储。一些特征用 0-1 的比例来表示，还有一些特征用 1-12 的范围来表示，另外还有一些特征用 0-100 的范围表示等。这是因为它们来自于真实世界，在开发时，了解如何探索并清洗这些数据是开发中的一项重要技能。\n",
        "\n",
        "请注意：作为一名建模者及开发者，需要思考该如何使用这些数据，明白模型的预测会带来哪些潜在的益处或危害。一个模型可能会加大社会的不公平与偏见。一个与问题有关的特征在你手上会被用来解决不公平还是制造不公平呢？关于更多这方面的信息，请阅读：[机器学习的公平性](https://developers.google.com/machine-learning/fairness-overview/)。"
      ]
    },
    {
      "metadata": {
        "id": "8tYsm8Gs03J4",
        "colab_type": "code",
        "colab": {}
      },
      "cell_type": "code",
      "source": [
        "print(train_data[0])  # Display sample features, notice the different scales"
      ],
      "execution_count": 0,
      "outputs": []
    },
    {
      "metadata": {
        "id": "Q7muNf-d1-ne",
        "colab_type": "text"
      },
      "cell_type": "markdown",
      "source": [
        "用 [pandas](https://pandas.pydata.org) 库来对数据集的前几行进行格式优美的展示："
      ]
    },
    {
      "metadata": {
        "id": "pYVyGhdyCpIM",
        "colab_type": "code",
        "colab": {}
      },
      "cell_type": "code",
      "source": [
        "import pandas as pd\n",
        "\n",
        "column_names = ['CRIM', 'ZN', 'INDUS', 'CHAS', 'NOX', 'RM', 'AGE', 'DIS', 'RAD',\n",
        "                'TAX', 'PTRATIO', 'B', 'LSTAT']\n",
        "\n",
        "df = pd.DataFrame(train_data, columns=column_names)\n",
        "df.head()"
      ],
      "execution_count": 0,
      "outputs": []
    },
    {
      "metadata": {
        "id": "wb9S7Mia2lpf",
        "colab_type": "text"
      },
      "cell_type": "markdown",
      "source": [
        "### 标签\n",
        "\n",
        "标签是以千美元为单位的房价。（请注意这是上世纪七十年代中期的价格。）"
      ]
    },
    {
      "metadata": {
        "id": "I8NwI2ND2t4Y",
        "colab_type": "code",
        "colab": {}
      },
      "cell_type": "code",
      "source": [
        "print(train_labels[0:10])  # Display first 10 entries"
      ],
      "execution_count": 0,
      "outputs": []
    },
    {
      "metadata": {
        "id": "mRklxK5s388r",
        "colab_type": "text"
      },
      "cell_type": "markdown",
      "source": [
        "## 特征标准化（Normalize）\n",
        "\n",
        "推荐对使用不同量纲和范围的特征进行标准化。我们对每个特征都减去各自的均值，并除以标准差（即 z-score 标准化）："
      ]
    },
    {
      "metadata": {
        "id": "ze5WQP8R1TYg",
        "colab_type": "code",
        "colab": {}
      },
      "cell_type": "code",
      "source": [
        "# Test data is *not* used when calculating the mean and std\n",
        "\n",
        "mean = train_data.mean(axis=0)\n",
        "std = train_data.std(axis=0)\n",
        "train_data = (train_data - mean) / std\n",
        "test_data = (test_data - mean) / std\n",
        "\n",
        "print(train_data[0])  # First training sample, normalized"
      ],
      "execution_count": 0,
      "outputs": []
    },
    {
      "metadata": {
        "id": "BuiClDk45eS4",
        "colab_type": "text"
      },
      "cell_type": "markdown",
      "source": [
        "虽然在没有进行特征标准化的情况下模型**可能会**收敛，但会让训练过程更加困难，并且会导致模型更加依赖于输入数据选用的单位。"
      ]
    },
    {
      "metadata": {
        "id": "SmjdzxKzEu1-",
        "colab_type": "text"
      },
      "cell_type": "markdown",
      "source": [
        "## 创建模型\n",
        "\n",
        "现在开始构建模型。我们在此处使用顺序（`Sequential`）模型，用两个全连接层作为隐藏层，并定义一个输出层，输出单个的、连续的数值。模型构建的步骤包裹在一个 `build_model` 函数中，因为稍后我们还要另外构建一个模型。"
      ]
    },
    {
      "metadata": {
        "id": "c26juK7ZG8j-",
        "colab_type": "code",
        "colab": {}
      },
      "cell_type": "code",
      "source": [
        "def build_model():\n",
        "  model = keras.Sequential([\n",
        "    keras.layers.Dense(64, activation=tf.nn.relu,\n",
        "                       input_shape=(train_data.shape[1],)),\n",
        "    keras.layers.Dense(64, activation=tf.nn.relu),\n",
        "    keras.layers.Dense(1)\n",
        "  ])\n",
        "\n",
        "  optimizer = tf.train.RMSPropOptimizer(0.001)\n",
        "\n",
        "  model.compile(loss='mse',\n",
        "                optimizer=optimizer,\n",
        "                metrics=['mae'])\n",
        "  return model\n",
        "\n",
        "model = build_model()\n",
        "model.summary()"
      ],
      "execution_count": 0,
      "outputs": []
    },
    {
      "metadata": {
        "id": "0-qWCsh6DlyH",
        "colab_type": "text"
      },
      "cell_type": "markdown",
      "source": [
        "## 训练模型\n",
        "\n",
        "将模型训练 500 个迭代，并将训练与验证准确率记录在 `history` 对象中。"
      ]
    },
    {
      "metadata": {
        "id": "sD7qHCmNIOY0",
        "colab_type": "code",
        "colab": {}
      },
      "cell_type": "code",
      "source": [
        "# Display training progress by printing a single dot for each completed epoch\n",
        "class PrintDot(keras.callbacks.Callback):\n",
        "  def on_epoch_end(self, epoch, logs):\n",
        "    if epoch % 100 == 0: print('')\n",
        "    print('.', end='')\n",
        "\n",
        "EPOCHS = 500\n",
        "\n",
        "# Store training stats\n",
        "history = model.fit(train_data, train_labels, epochs=EPOCHS,\n",
        "                    validation_split=0.2, verbose=0,\n",
        "                    callbacks=[PrintDot()])"
      ],
      "execution_count": 0,
      "outputs": []
    },
    {
      "metadata": {
        "id": "tQm3pc0FYPQB",
        "colab_type": "text"
      },
      "cell_type": "markdown",
      "source": [
        "使用存储在 `history` 对象中的状态对模型的训练过程进行可视化。我们希望用这些数据来决定模型在准确率停止提高前，何时终止训练。"
      ]
    },
    {
      "metadata": {
        "id": "B6XriGbVPh2t",
        "colab_type": "code",
        "colab": {}
      },
      "cell_type": "code",
      "source": [
        "import matplotlib.pyplot as plt\n",
        "\n",
        "\n",
        "def plot_history(history):\n",
        "  plt.figure()\n",
        "  plt.xlabel('Epoch')\n",
        "  plt.ylabel('Mean Abs Error [1000$]')\n",
        "  plt.plot(history.epoch, np.array(history.history['mean_absolute_error']),\n",
        "           label='Train Loss')\n",
        "  plt.plot(history.epoch, np.array(history.history['val_mean_absolute_error']),\n",
        "           label = 'Val loss')\n",
        "  plt.legend()\n",
        "  plt.ylim([0, 5])\n",
        "\n",
        "plot_history(history)"
      ],
      "execution_count": 0,
      "outputs": []
    },
    {
      "metadata": {
        "id": "AqsuANc11FYv",
        "colab_type": "text"
      },
      "cell_type": "markdown",
      "source": [
        "根据这个图的显示，模型在大约 200 个 epoch 后提升就很小了。现在我们更新 `model.fit` 方法，让模型在验证评分不再提升时自动停止训练。我们将在每个迭代中使用 *callback* 来测试训练条件。如果在一系列迭代中都不再有提升，就自动停止训练。\n",
        "\n",
        "你可以阅读[此指南](https://www.tensorflow.org/versions/master/api_docs/python/tf/keras/callbacks/EarlyStopping)来了解更多有关这种 callback 的信息。"
      ]
    },
    {
      "metadata": {
        "id": "fdMZuhUgzMZ4",
        "colab_type": "code",
        "colab": {}
      },
      "cell_type": "code",
      "source": [
        "model = build_model()\n",
        "\n",
        "# The patience parameter is the amount of epochs to check for improvement\n",
        "early_stop = keras.callbacks.EarlyStopping(monitor='val_loss', patience=20)\n",
        "\n",
        "history = model.fit(train_data, train_labels, epochs=EPOCHS,\n",
        "                    validation_split=0.2, verbose=0,\n",
        "                    callbacks=[early_stop, PrintDot()])\n",
        "\n",
        "plot_history(history)"
      ],
      "execution_count": 0,
      "outputs": []
    },
    {
      "metadata": {
        "id": "3St8-DmrX8P4",
        "colab_type": "text"
      },
      "cell_type": "markdown",
      "source": [
        "这个图显示了平均误差大约在 \\\\$2,500 美元。这个值够好吗？并不。\\$2,500 美元在部分标签仅为 $15,000 的数据中并不是微不足道的误差。\n",
        "\n",
        "让我们看看模型在测试集上表现如何："
      ]
    },
    {
      "metadata": {
        "id": "jl_yNr5n1kms",
        "colab_type": "code",
        "colab": {}
      },
      "cell_type": "code",
      "source": [
        "[loss, mae] = model.evaluate(test_data, test_labels, verbose=0)\n",
        "\n",
        "print(\"Testing set Mean Abs Error: ${:7.2f}\".format(mae * 1000))"
      ],
      "execution_count": 0,
      "outputs": []
    },
    {
      "metadata": {
        "id": "ft603OzXuEZC",
        "colab_type": "text"
      },
      "cell_type": "markdown",
      "source": [
        "## 预测\n",
        "\n",
        "最后，对测试集中的一些数据预测其房价："
      ]
    },
    {
      "metadata": {
        "id": "Xe7RXH3N3CWU",
        "colab_type": "code",
        "colab": {}
      },
      "cell_type": "code",
      "source": [
        "test_predictions = model.predict(test_data).flatten()\n",
        "\n",
        "plt.scatter(test_labels, test_predictions)\n",
        "plt.xlabel('True Values [1000$]')\n",
        "plt.ylabel('Predictions [1000$]')\n",
        "plt.axis('equal')\n",
        "plt.xlim(plt.xlim())\n",
        "plt.ylim(plt.ylim())\n",
        "_ = plt.plot([-100, 100], [-100, 100])\n"
      ],
      "execution_count": 0,
      "outputs": []
    },
    {
      "metadata": {
        "id": "f-OHX4DiXd8x",
        "colab_type": "code",
        "colab": {}
      },
      "cell_type": "code",
      "source": [
        "error = test_predictions - test_labels\n",
        "plt.hist(error, bins = 50)\n",
        "plt.xlabel(\"Prediction Error [1000$]\")\n",
        "_ = plt.ylabel(\"Count\")"
      ],
      "execution_count": 0,
      "outputs": []
    },
    {
      "metadata": {
        "id": "vgGQuV-yqYZH",
        "colab_type": "text"
      },
      "cell_type": "markdown",
      "source": [
        "## 总结\n",
        "\n",
        "本 notebook 介绍了几种用于处理回归问题的技术。\n",
        "\n",
        "* 均方差（MSE）是一种针对回归问题（区别于分类问题）通用的损失函数。\n",
        "* 与此类似，回归问题的评价指标也与分类问题不同。平均绝对误差（MAE）是针对回归问题的一种通用评价指标。\n",
        "* 当输入数据的特征有着不同范围的值时，每个特征都要独立进行缩放。\n",
        "* 如果没有足够的训练数据，使用隐藏层较少的小型网络可以避免过拟合。\n",
        "* 尽早停止训练是一种很有用的阻止过拟合的技术。"
      ]
    }
  ]
}
